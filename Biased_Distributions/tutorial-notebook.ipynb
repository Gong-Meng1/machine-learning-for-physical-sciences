{
 "cells": [
  {
   "cell_type": "markdown",
   "source": [
    "### The Simulator supports batches and is extremely efficient to tensor-based algorithm."
   ],
   "metadata": {
    "collapsed": false,
    "pycharm": {
     "name": "#%% md\n"
    }
   }
  },
  {
   "cell_type": "code",
   "execution_count": 51,
   "metadata": {
    "collapsed": true
   },
   "outputs": [],
   "source": [
    "import matplotlib.pyplot as plt\n",
    "import numpy as np\n",
    "import pandas as pd\n",
    "from deepqis.utils import Purity_Measure as pm\n",
    "from deepqis.utils import Concurrence_Measure as cm\n",
    "from deepqis.utils import Fidelity_Measure as fm\n",
    "from deepqis.utils import Rank_Measure as rk\n",
    "from deepqis.Simulator import Distributions, Measurements\n",
    "import tensorflow as tf"
   ]
  },
  {
   "cell_type": "markdown",
   "source": [],
   "metadata": {
    "collapsed": false,
    "pycharm": {
     "name": "#%% md\n"
    }
   }
  },
  {
   "cell_type": "markdown",
   "source": [
    "### Performance can be accelerated with GPUs. For an example, GPU seems to be approx 3.5 times faster than on CPU."
   ],
   "metadata": {
    "collapsed": false,
    "pycharm": {
     "name": "#%% md\n"
    }
   }
  },
  {
   "cell_type": "markdown",
   "source": [
    "#### GPU -- RTX 3080"
   ],
   "metadata": {
    "collapsed": false,
    "pycharm": {
     "name": "#%% md\n"
    }
   }
  },
  {
   "cell_type": "code",
   "execution_count": 52,
   "outputs": [
    {
     "name": "stdout",
     "output_type": "stream",
     "text": [
      "(300000, 4, 4)\n",
      "|GPU (s):  0.08845639228820801\n"
     ]
    },
    {
     "data": {
      "text/plain": "<Figure size 432x288 with 1 Axes>",
      "image/png": "[encoded data removed]"
     },
     "metadata": {
      "needs_background": "light"
     },
     "output_type": "display_data"
    }
   ],
   "source": [
    "# MA-Symmetric-Gamma (This is purely tensor-based calculation)\n",
    "import time\n",
    "start = time.time()\n",
    "with tf.device('/GPU:0'):\n",
    "    ma_symmetric_gamma = Distributions.MaiAlquierDist_Gamma(qs=tf.constant(2), alpha=0.1)\n",
    "    gamma_states = ma_symmetric_gamma.sample_dm(tf.constant(300_000))\n",
    "print(gamma_states.shape)\n",
    "end = time.time()\n",
    "print('|GPU (s): ', end-start)\n",
    "pur = pm.purity(gamma_states.numpy())\n",
    "plt.hist(pur)\n",
    "plt.xlabel('Purity')\n",
    "plt.ylabel('arb. units')\n",
    "plt.show()"
   ],
   "metadata": {
    "collapsed": false,
    "pycharm": {
     "name": "#%%\n"
    }
   }
  },
  {
   "cell_type": "markdown",
   "source": [
    "#### CPU -- Intel 11th Gen I-7"
   ],
   "metadata": {
    "collapsed": false,
    "pycharm": {
     "name": "#%% md\n"
    }
   }
  },
  {
   "cell_type": "code",
   "execution_count": 53,
   "outputs": [
    {
     "name": "stdout",
     "output_type": "stream",
     "text": [
      "(300000, 4, 4)\n",
      "|CPU (s): 0.2900700569152832\n"
     ]
    },
    {
     "data": {
      "text/plain": "<Figure size 432x288 with 1 Axes>",
      "image/png": "[encoded data removed]"
     },
     "metadata": {
      "needs_background": "light"
     },
     "output_type": "display_data"
    }
   ],
   "source": [
    "# MA-Symmetric-Gamma (This is purely tensor-based calculation)\n",
    "import time\n",
    "start = time.time()\n",
    "with tf.device('/CPU:0'):\n",
    "    ma_symmetric_gamma = Distributions.MaiAlquierDist_Gamma(qs=tf.constant(2), alpha=0.1)\n",
    "    gamma_states = ma_symmetric_gamma.sample_dm(tf.constant(300_000))\n",
    "print(gamma_states.shape)\n",
    "end = time.time()\n",
    "print('|CPU (s):', end-start)\n",
    "pur = pm.purity(gamma_states.numpy())\n",
    "plt.hist(pur)\n",
    "plt.xlabel('Purity')\n",
    "plt.ylabel('arb. units')\n",
    "plt.show()"
   ],
   "metadata": {
    "collapsed": false,
    "pycharm": {
     "name": "#%%\n"
    }
   }
  },
  {
   "cell_type": "markdown",
   "source": [
    "##### We first generate 100 random states for two-qubit case"
   ],
   "metadata": {
    "collapsed": false,
    "pycharm": {
     "name": "#%% md\n"
    }
   }
  },
  {
   "cell_type": "code",
   "execution_count": 54,
   "outputs": [],
   "source": [
    "# Haar-random pure states\n",
    "rho_haar = Distributions.Haar_State(qs=2).sample_dm(n_size=100) # qs: number of qubits and n_size: number of states to be sampled\n",
    "\n",
    "# Hilbert-Schmidt\n",
    "hs = Distributions.Hilbert_Schmidt(qs=2).sample_dm(n_size=100)\n",
    "\n",
    "# Bures\n",
    "bures = Distributions.Bures(qs=2).sample_dm(n_size=100)\n",
    "\n",
    "# HS-Haar\n",
    "hs_haar = Distributions.HS_Haar(qs=2).sample_dm(n_size=100)\n",
    "\n",
    "# MA-Symmetric\n",
    "ma_symmetric = Distributions.MaiAlquierDist_Symmetric(qs=2, alpha=0.1).sample_dm(n_size=100)\n",
    "\n",
    "# MA-Asymmetric\n",
    "ma_asymmetric = Distributions.MaiAlquierDist_Asymmetric(qs=2, alpha=[0.1, 0.2, 0.4, 0.5]).sample_dm(n_size=100)\n"
   ],
   "metadata": {
    "collapsed": false,
    "pycharm": {
     "name": "#%%\n"
    }
   }
  },
  {
   "cell_type": "code",
   "execution_count": 54,
   "outputs": [],
   "source": [],
   "metadata": {
    "collapsed": false,
    "pycharm": {
     "name": "#%%\n"
    }
   }
  },
  {
   "cell_type": "markdown",
   "source": [
    "##### Find purity of states from all distributions and plot them"
   ],
   "metadata": {
    "collapsed": false,
    "pycharm": {
     "name": "#%% md\n"
    }
   }
  },
  {
   "cell_type": "code",
   "execution_count": 55,
   "outputs": [
    {
     "name": "stdout",
     "output_type": "stream",
     "text": [
      "|Shape:  (100, 4, 4)\n",
      "|Purity:  [1. 1. 1. 1. 1. 1. 1. 1. 1. 1. 1. 1. 1. 1. 1. 1. 1. 1. 1. 1. 1. 1. 1. 1.\n",
      " 1. 1. 1. 1. 1. 1. 1. 1. 1. 1. 1. 1. 1. 1. 1. 1. 1. 1. 1. 1. 1. 1. 1. 1.\n",
      " 1. 1. 1. 1. 1. 1. 1. 1. 1. 1. 1. 1. 1. 1. 1. 1. 1. 1. 1. 1. 1. 1. 1. 1.\n",
      " 1. 1. 1. 1. 1. 1. 1. 1. 1. 1. 1. 1. 1. 1. 1. 1. 1. 1. 1. 1. 1. 1. 1. 1.\n",
      " 1. 1. 1. 1.]\n",
      "|rank:  [2 2 2 2 2 2 2 2 2 2 2 2 2 2 2 2 2 2 2 2 2 2 2 2 2 2 2 2 2 2 2 2 2 2 2 2 2\n",
      " 2 2 2 2 2 2 2 2 2 2 2 2 2 2 2 2 2 2 2 2 2 2 2 2 2 2 2 2 2 2 2 2 2 2 2 2 2\n",
      " 2 2 2 2 2 2 2 2 2 2 2 2 2 2 2 2 2 2 2 2 2 2 2 2 2 2]\n"
     ]
    }
   ],
   "source": [
    "print ('|Shape: ', rho_haar.shape)\n",
    "\n",
    "# test the purity of the sampled states\n",
    "purity_haar = pm.purity(rho_haar)\n",
    "print('|Purity: ', purity_haar)\n",
    "\n",
    "# test the rank\n",
    "rank_haar = rk.rank(rho_haar)\n",
    "print('|rank: ', rank_haar)"
   ],
   "metadata": {
    "collapsed": false,
    "pycharm": {
     "name": "#%%\n"
    }
   }
  },
  {
   "cell_type": "code",
   "execution_count": 55,
   "outputs": [],
   "source": [],
   "metadata": {
    "collapsed": false,
    "pycharm": {
     "name": "#%%\n"
    }
   }
  }
 ],
 "metadata": {
  "kernelspec": {
   "display_name": "Python 3",
   "language": "python",
   "name": "python3"
  },
  "language_info": {
   "codemirror_mode": {
    "name": "ipython",
    "version": 2
   },
   "file_extension": ".py",
   "mimetype": "text/x-python",
   "name": "python",
   "nbconvert_exporter": "python",
   "pygments_lexer": "ipython2",
   "version": "2.7.6"
  }
 },
 "nbformat": 4,
 "nbformat_minor": 0
}