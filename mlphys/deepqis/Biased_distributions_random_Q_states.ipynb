{
 "nbformat": 4,
 "nbformat_minor": 0,
 "metadata": {
  "colab": {
   "name": "Biased-distributions-random-Q-states.ipynb",
   "provenance": []
  },
  "kernelspec": {
   "name": "python3",
   "display_name": "Python 3"
  },
  "language_info": {
   "name": "python"
  }
 },
 "cells": [
  {
   "cell_type": "markdown",
   "source": [
    "### Machine Learning for Physical Sciences\n",
    "*pip install mlphys*\n",
    "\n",
    "Author: Sanjaya Lohani\n",
    "\n",
    "*Please report bugs at slohani@mlphys.com\n",
    "\n",
    "Papers:\n",
    "\n",
    "1.   Lohani, S., Lukens, J.M., Jones, D.E., Searles, T.A., Glasser, R.T. and Kirby, B.T., 2021. Improving application performance with biased distributions of quantum states. *Physical Review Research*, 3(4), p.043145. \n",
    "\n",
    "2.  Lohani, S., Searles, T. A., Kirby, B. T., & Glasser, R. T. (2021). On the Experimental Feasibility of Quantum State Reconstruction via Machine Learning. *IEEE Transactions on Quantum Engineering*, 2, 1–10. \n",
    "\n",
    "Collaborator: Joseph M. Lukens, Daniel E. Jones, Ryan T. Glasser, Thomas A. Searles, and Brian T. Kirby\n",
    "\n",
    "\n",
    "\n",
    "\n",
    "\n",
    "\n"
   ],
   "metadata": {
    "id": "BcQChM0Blf5B"
   }
  },
  {
   "cell_type": "code",
   "execution_count": null,
   "metadata": {
    "id": "F1sfBUszgDlL"
   },
   "outputs": [],
   "source": [
    "!pip install mlphys"
   ]
  },
  {
   "cell_type": "code",
   "source": [
    "import mlphys.deepqis.simulator.distributions as dist\n",
    "import mlphys.deepqis.simulator.measurements as meas\n",
    "import mlphys.deepqis.utils.Alpha_Measure as find_alpha\n",
    "import mlphys.deepqis.utils.Concurrence_Measure as find_con\n",
    "import mlphys.deepqis.utils.Purity_Measure as find_pm\n",
    "import matplotlib.pyplot as plt"
   ],
   "metadata": {
    "id": "OM4kiCwLgPs7"
   },
   "execution_count": 1,
   "outputs": []
  },
  {
   "cell_type": "markdown",
   "source": [
    "#1. Mai-Alquier (MA) distributions\n",
    "$\\text{Dir}(x\\vert\\alpha)=\\frac{\\Gamma\\left(\\sum_{j=1}^{K}\\alpha_{j}\\right)}{\\prod_{j=1}^{K}\\Gamma(\\alpha_{j})}\\prod_{j=1}^{K}x_{j}^{\\alpha_{j}-1}$,\n",
    "\n",
    "$\\rho=\\sum_{j=1}^{K}x_{j}\\vert\\psi_{j}\\rangle\\langle\\psi_{j}\\vert$."
   ],
   "metadata": {
    "id": "W5jklYzEhPNk"
   }
  },
  {
   "cell_type": "markdown",
   "source": [
    "### 1. 1. Symmetric MA distributions"
   ],
   "metadata": {
    "id": "LoCcdauYkkj_"
   }
  },
  {
   "cell_type": "code",
   "source": [
    "alpha_value = 0.1 # say\n",
    "\n",
    "# generating Symmetirc MA distributions (10_000 states)\n",
    "density_matrix_ma = dist.MaiAlquierDist_Symmetric(qs=2, alpha=alpha_value).sample_dm(n_size=10000)\n",
    "# density_matrix_ma_numpy = dist.MaiAlquierDist_Symmetric_Numpy(qs=2, alpha=alpha_value).sample_dm(n_size=10000)\n",
    "\n",
    "# Finding purity for generated states\n",
    "pur_dist = find_pm.purity(density_matrix_ma)\n",
    "\n",
    "# visualizing the purity distributions\n",
    "plt.hist(pur_dist, bins=100, histtype='step', density=True)\n",
    "plt.xlabel('Purity')\n",
    "plt.ylabel('Density')\n",
    "plt.show()"
   ],
   "metadata": {
    "colab": {
     "base_uri": "https://localhost:8080/",
     "height": 279
    },
    "id": "2Cqoh5EWgx0z",
    "outputId": "18f02028-2e53-4b51-da51-40785c43c6fa"
   },
   "execution_count": 3,
   "outputs": [
    {
     "data": {
      "text/plain": "<Figure size 432x288 with 1 Axes>",
      "image/png": "[encoded data removed]"
     },
     "metadata": {
      "needs_background": "light"
     },
     "output_type": "display_data"
    }
   ]
  },
  {
   "cell_type": "markdown",
   "source": [
    "### 1. 1. 2 Asymmetric MA distributions"
   ],
   "metadata": {
    "id": "He5cNIBikszw"
   }
  },
  {
   "cell_type": "code",
   "source": [
    "\n",
    "alpha_vec = [0.1, 0.2, 0.3, 0.4] # say\n",
    "density_matrix_ma_asym = dist.MaiAlquierDist_Asymmetric(qs=2, alpha=alpha_vec).sample_dm(n_size=10000)\n",
    "pur_dist_asym = find_pm.purity(density_matrix_ma_asym)\n",
    "plt.hist(pur_dist_asym, bins=100, histtype='step', density=True)\n",
    "plt.xlabel('Purity')\n",
    "plt.ylabel('Density')\n",
    "plt.show()\n"
   ],
   "metadata": {
    "colab": {
     "base_uri": "https://localhost:8080/",
     "height": 279
    },
    "id": "ZKmWvl2ZkzjD",
    "outputId": "6a4d16c2-d1eb-4a3a-8687-4847f373f4a3"
   },
   "execution_count": 4,
   "outputs": [
    {
     "data": {
      "text/plain": "<Figure size 432x288 with 1 Axes>",
      "image/png": "[encoded data removed]"
     },
     "metadata": {
      "needs_background": "light"
     },
     "output_type": "display_data"
    }
   ]
  },
  {
   "cell_type": "markdown",
   "source": [
    "#2. Hilbert-Schmidt (HS) distributions\n",
    "$\\rho=\\frac{GG^{\\dagger}}{\\text{Tr}\\left(GG^{\\dagger} \\right)}$"
   ],
   "metadata": {
    "id": "FKTuqkovrSD5"
   }
  },
  {
   "cell_type": "code",
   "source": [
    "# Generating 10_000 Hilbert_Schmidt states (eg. 2 qubits)\n",
    "dm_hs = dist.Hilbert_Schmidt(qs=2).sample_dm(n_size=10000)\n",
    "\n",
    "pur_hs = find_pm.purity(dm_hs)\n",
    "plt.hist(pur_hs, bins=100, histtype='step', density=True)\n",
    "plt.xlabel('Purity')\n",
    "plt.ylabel('Density')\n",
    "plt.show()\n",
    "print(dm_hs.shape)"
   ],
   "metadata": {
    "colab": {
     "base_uri": "https://localhost:8080/",
     "height": 297
    },
    "id": "Sx_xr7fslV12",
    "outputId": "597b3377-126c-48ee-c355-d110c2431e2d"
   },
   "execution_count": 5,
   "outputs": [
    {
     "data": {
      "text/plain": "<Figure size 432x288 with 1 Axes>",
      "image/png": "[encoded data removed]"
     },
     "metadata": {
      "needs_background": "light"
     },
     "output_type": "display_data"
    },
    {
     "name": "stdout",
     "output_type": "stream",
     "text": [
      "(10000, 4, 4)\n"
     ]
    }
   ]
  },
  {
   "cell_type": "markdown",
   "source": [
    "#### $MA_{\\alpha=D=K}$ vs HS (eg, two, three and four qubits cases):\n",
    "\n",
    "Please see Fig. 3 in the Paper (1) above for more details."
   ],
   "metadata": {
    "id": "1BX9xaS2s45F"
   }
  },
  {
   "cell_type": "code",
   "source": [
    "import tensorflow as tf\n",
    "# MA: red line\n",
    "# HS: blue line\n",
    "\n",
    "ma_pur_list = []\n",
    "hs_pur_list = []\n",
    "for qubits in [2, 3, 4]:\n",
    "  qubits_tensor = tf.constant(qubits)\n",
    "  alpha_value = tf.cast(2**qubits_tensor, tf.float32)\n",
    "  # MA at alpha = D = K = 2**Q; Q = number of qubits\n",
    "  ma_gen = dist.MaiAlquierDist_Symmetric(qs=qubits, alpha=alpha_value).sample_dm(n_size=10000)\n",
    "  ma_pur = find_pm.purity(ma_gen)\n",
    "  ma_pur_list.append(ma_pur)\n",
    "\n",
    "  # HS at alpha = D = K = 2**Q; Q = number of qubits\n",
    "  hs_gen = dist.Hilbert_Schmidt(qs=qubits).sample_dm(n_size=10000)\n",
    "  hs_pur = find_pm.purity(hs_gen)\n",
    "  hs_pur_list.append(hs_pur)\n",
    "\n",
    "for i in range(3):\n",
    "  plt.hist(hs_pur_list[i],bins=100, histtype='step', density=True, color='b')\n",
    "  plt.hist(ma_pur_list[i],bins=100, histtype='step', density=True, color='r')\n",
    "plt.xlabel('Purity')\n",
    "plt.ylabel('Density')\n",
    "plt.show()"
   ],
   "metadata": {
    "colab": {
     "base_uri": "https://localhost:8080/",
     "height": 279
    },
    "id": "wX3qyzU1tDY3",
    "outputId": "3f42f564-607a-4bea-b186-7200784e1948"
   },
   "execution_count": 6,
   "outputs": [
    {
     "data": {
      "text/plain": "<Figure size 432x288 with 1 Axes>",
      "image/png": "[encoded data removed]"
     },
     "metadata": {
      "needs_background": "light"
     },
     "output_type": "display_data"
    }
   ]
  },
  {
   "cell_type": "markdown",
   "source": [
    "#3. Bures distributions\n",
    "\n",
    "$\\rho=\\frac{\\left({1}+U\\right)GG^{\\dagger}\\left({1}+U^{\\dagger}\\right)}{\\text{Tr}\\left[\\left({1}+U\\right)GG^{\\dagger}\\left({1}+U^{\\dagger}\\right)\\right]}$"
   ],
   "metadata": {
    "id": "LOV8kuHX5mez"
   }
  },
  {
   "cell_type": "code",
   "source": [
    "# Generating 10_000 Bures states\n",
    "bures = dist.Bures(qs=2).sample_dm(n_size=10000)\n",
    "\n",
    "pur_bures = find_pm.purity(bures)\n",
    "plt.hist(pur_bures, bins=100, histtype='step', density=True)\n",
    "plt.xlabel('Purity')\n",
    "plt.ylabel('Density')\n",
    "plt.show()"
   ],
   "metadata": {
    "colab": {
     "base_uri": "https://localhost:8080/",
     "height": 279
    },
    "id": "IyAK4ZyqurRl",
    "outputId": "c42decbb-2b91-4f6a-915d-c355025878d6"
   },
   "execution_count": 7,
   "outputs": [
    {
     "data": {
      "text/plain": "<Figure size 432x288 with 1 Axes>",
      "image/png": "[encoded data removed]"
     },
     "metadata": {
      "needs_background": "light"
     },
     "output_type": "display_data"
    }
   ]
  },
  {
   "cell_type": "markdown",
   "source": [
    "# 4. Haar-random Pure States"
   ],
   "metadata": {
    "id": "XqoXqnVHogmu"
   }
  },
  {
   "cell_type": "code",
   "source": [
    "# Generating 10_000 Haar random pure states\n",
    "haar = dist.Haar_State(qs=2).sample_dm(n_size=10_000)\n",
    "\n",
    "pur_haar = find_pm.purity(haar)\n",
    "print(pur_haar)\n"
   ],
   "metadata": {
    "colab": {
     "base_uri": "https://localhost:8080/"
    },
    "id": "VJ-tGopRof_b",
    "outputId": "ea0f9404-d475-442b-da81-3777e6dc85ba"
   },
   "execution_count": 8,
   "outputs": [
    {
     "name": "stdout",
     "output_type": "stream",
     "text": [
      "[1. 1. 1. ... 1. 1. 1.]\n"
     ]
    }
   ]
  },
  {
   "cell_type": "code",
   "source": [],
   "metadata": {
    "id": "sPhxXzGF_a5s"
   },
   "execution_count": null,
   "outputs": []
  }
 ]
}
