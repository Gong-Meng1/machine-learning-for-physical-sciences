{
 "cells": [
  {
   "cell_type": "code",
   "execution_count": 1,
   "outputs": [
    {
     "ename": "RuntimeError",
     "evalue": "module compiled against API version 0xe but this version of numpy is 0xd",
     "output_type": "error",
     "traceback": [
      "\u001B[0;31m---------------------------------------------------------------------------\u001B[0m",
      "\u001B[0;31mRuntimeError\u001B[0m                              Traceback (most recent call last)",
      "\u001B[0;31mRuntimeError\u001B[0m: module compiled against API version 0xe but this version of numpy is 0xd"
     ]
    },
    {
     "ename": "RuntimeError",
     "evalue": "module compiled against API version 0xe but this version of numpy is 0xd",
     "output_type": "error",
     "traceback": [
      "\u001B[0;31m---------------------------------------------------------------------------\u001B[0m",
      "\u001B[0;31mRuntimeError\u001B[0m                              Traceback (most recent call last)",
      "\u001B[0;31mRuntimeError\u001B[0m: module compiled against API version 0xe but this version of numpy is 0xd"
     ]
    }
   ],
   "source": [
    "import Distributions as dist\n",
    "import Measurements as meas"
   ],
   "metadata": {
    "collapsed": false,
    "pycharm": {
     "name": "#%%\n"
    }
   }
  },
  {
   "cell_type": "code",
   "execution_count": 11,
   "outputs": [
    {
     "name": "stdout",
     "output_type": "stream",
     "text": [
      "[[[ 0.31173304+0.j         -0.01147627+0.18276937j\n",
      "   -0.11590599+0.03327531j  0.11288561+0.05920382j]\n",
      "  [-0.01147627-0.18276937j  0.29388818+0.j\n",
      "    0.05285029+0.0091862j   0.11636373-0.01016462j]\n",
      "  [-0.11590599-0.03327531j  0.05285029-0.0091862j\n",
      "    0.16990961+0.j         -0.12958275-0.04565157j]\n",
      "  [ 0.11288561-0.05920382j  0.11636373+0.01016462j\n",
      "   -0.12958275+0.04565157j  0.22446917+0.j        ]]]\n"
     ]
    }
   ],
   "source": [
    "dm = dist.Hilbert_Schmidt(qs=2).sample_dm(n_size=1)\n",
    "print(dm)"
   ],
   "metadata": {
    "collapsed": false,
    "pycharm": {
     "name": "#%%\n"
    }
   }
  },
  {
   "cell_type": "code",
   "execution_count": 29,
   "outputs": [
    {
     "name": "stdout",
     "output_type": "stream",
     "text": [
      "| To accelerate the simulation, General Scheme Projector file is created in a new projectors folder.\n",
      "|Found projectors folder! Appending some files ...\n",
      "[[0.02861 0.02691 0.01046 0.04355 0.01738 0.03867 0.02301 0.03272 0.01417\n",
      "  0.0414  0.04031 0.0157  0.01459 0.03864 0.02481 0.03269 0.01593 0.03828\n",
      "  0.02501 0.03231 0.02366 0.03007 0.03122 0.02811 0.03183 0.03404 0.0075\n",
      "  0.03731 0.01327 0.05381 0.02713 0.01656 0.03424 0.03243 0.01895 0.02472]]\n"
     ]
    }
   ],
   "source": [
    "tomo, tau = meas.Random_Measurements(qs=2, n_meas=100000).tomography_data(density_matrix=dm)\n",
    "print(tomo)"
   ],
   "metadata": {
    "collapsed": false,
    "pycharm": {
     "name": "#%%\n"
    }
   }
  },
  {
   "cell_type": "code",
   "execution_count": 31,
   "outputs": [
    {
     "name": "stdout",
     "output_type": "stream",
     "text": [
      "| To accelerate the simulation, General Scheme Projector file is created in a new projectors folder.\n",
      "|Found projectors folder! Appending some files ...\n",
      "[[0.02898 0.02687 0.01019 0.04522 0.01793 0.0397  0.02212 0.03309 0.01386\n",
      "  0.0423  0.04012 0.01599 0.01447 0.03767 0.0254  0.0333  0.01514 0.03652\n",
      "  0.02495 0.03245 0.02227 0.0304  0.03143 0.02732 0.03204 0.0345  0.00741\n",
      "  0.03674 0.01348 0.05399 0.02662 0.01672 0.03501 0.03249 0.01819 0.02512]]\n"
     ]
    }
   ],
   "source": [
    "tomo, tau = meas.Random_Measurements_Old(qs=2, n_meas=100000).tomography_data(density_matrix=dm)\n",
    "print(tomo)"
   ],
   "metadata": {
    "collapsed": false,
    "pycharm": {
     "name": "#%%\n"
    }
   }
  }
 ],
 "metadata": {
  "kernelspec": {
   "display_name": "Python 3",
   "language": "python",
   "name": "python3"
  },
  "language_info": {
   "codemirror_mode": {
    "name": "ipython",
    "version": 2
   },
   "file_extension": ".py",
   "mimetype": "text/x-python",
   "name": "python",
   "nbconvert_exporter": "python",
   "pygments_lexer": "ipython2",
   "version": "2.7.6"
  }
 },
 "nbformat": 4,
 "nbformat_minor": 0
}